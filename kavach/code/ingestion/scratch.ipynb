{
 "cells": [
  {
   "cell_type": "code",
   "execution_count": 1,
   "id": "ec396eed-fd97-40b4-91af-c64be6ae5619",
   "metadata": {},
   "outputs": [],
   "source": [
    "import os\n",
    "import re\n",
    "import json"
   ]
  },
  {
   "cell_type": "code",
   "execution_count": null,
   "id": "19d61c7d-5908-43bb-a429-888108c5cbdc",
   "metadata": {},
   "outputs": [],
   "source": []
  },
  {
   "cell_type": "code",
   "execution_count": null,
   "id": "fffd14f4-feb2-4b49-a8db-8bc5a1171c02",
   "metadata": {},
   "outputs": [],
   "source": []
  },
  {
   "cell_type": "code",
   "execution_count": 2,
   "id": "0c000102-3f61-4b08-a2d9-4313a85bbdce",
   "metadata": {},
   "outputs": [],
   "source": [
    "processed_folder = \"../data/processed_pdfs/\""
   ]
  },
  {
   "cell_type": "code",
   "execution_count": 3,
   "id": "7464cc3c-f133-4252-bebb-66efbfb981ab",
   "metadata": {},
   "outputs": [
    {
     "name": "stdout",
     "output_type": "stream",
     "text": [
      "../data/processed_pdfs/Manual_for_Procurement_of_Works_Updated June, 2022_1/Manual_for_Procurement_of_Works_Updated June, 2022_1.pdf2/\n",
      "../data/processed_pdfs/Manual_for_Procurement_of_Works_Updated June, 2022_1/Manual_for_Procurement_of_Works_Updated June, 2022_1.pdf6/\n",
      "../data/processed_pdfs/Manual_for_Procurement_of_Works_Updated June, 2022_1/Manual_for_Procurement_of_Works_Updated June, 2022_1.pdf8/\n",
      "../data/processed_pdfs/Manual_for_Procurement_of_Works_Updated June, 2022_1/Manual_for_Procurement_of_Works_Updated June, 2022_1.pdf212/\n",
      "../data/processed_pdfs/Manual_for_Procurement_of_Works_Updated June, 2022_1/Manual_for_Procurement_of_Works_Updated June, 2022_1.pdf22/\n",
      "../data/processed_pdfs/Manual_for_Procurement_of_Works_Updated June, 2022_1/Manual_for_Procurement_of_Works_Updated June, 2022_1.pdf4/\n",
      "../data/processed_pdfs/Manual_for_Procurement_of_Consultancy_&_Other_Services_Updated June, 2022_1/Manual_for_Procurement_of_Consultancy_&_Other_Services_Updated June, 2022_1.pdf4/\n",
      "../data/processed_pdfs/Manual_for_Procurement_of_Consultancy_&_Other_Services_Updated June, 2022_1/Manual_for_Procurement_of_Consultancy_&_Other_Services_Updated June, 2022_1.pdf2/\n",
      "../data/processed_pdfs/Manual_for_Procurement_of_Consultancy_&_Other_Services_Updated June, 2022_1/Manual_for_Procurement_of_Consultancy_&_Other_Services_Updated June, 2022_1.pdf20/\n",
      "../data/processed_pdfs/Manual_for_Procurement_of_Consultancy_&_Other_Services_Updated June, 2022_1/Manual_for_Procurement_of_Consultancy_&_Other_Services_Updated June, 2022_1.pdf8/\n",
      "../data/processed_pdfs/Manual_for_Procurement_of_Consultancy_&_Other_Services_Updated June, 2022_1/Manual_for_Procurement_of_Consultancy_&_Other_Services_Updated June, 2022_1.pdf6/\n",
      "../data/processed_pdfs/Manual_for_Procurement_of_Consultancy_&_Other_Services_Updated June, 2022_1/Manual_for_Procurement_of_Consultancy_&_Other_Services_Updated June, 2022_1.pdf212/\n",
      "../data/processed_pdfs/Manual_for_Procurement_of_Goods_Updated June, 2022_1/Manual_for_Procurement_of_Goods_Updated June, 2022_1.pdf8/\n",
      "../data/processed_pdfs/Manual_for_Procurement_of_Goods_Updated June, 2022_1/Manual_for_Procurement_of_Goods_Updated June, 2022_1.pdf2/\n",
      "../data/processed_pdfs/Manual_for_Procurement_of_Goods_Updated June, 2022_1/Manual_for_Procurement_of_Goods_Updated June, 2022_1.pdf22/\n",
      "../data/processed_pdfs/Manual_for_Procurement_of_Goods_Updated June, 2022_1/Manual_for_Procurement_of_Goods_Updated June, 2022_1.pdf4/\n",
      "../data/processed_pdfs/Manual_for_Procurement_of_Goods_Updated June, 2022_1/Manual_for_Procurement_of_Goods_Updated June, 2022_1.pdf6/\n",
      "../data/processed_pdfs/Manual_for_Procurement_of_Goods_Updated June, 2022_1/Manual_for_Procurement_of_Goods_Updated June, 2022_1.pdf286/\n"
     ]
    }
   ],
   "source": [
    "for pdf_name in os.listdir(processed_folder):\n",
    "    pdf_folder = processed_folder + pdf_name + \"/\"\n",
    "\n",
    "    for page in os.listdir(pdf_folder):\n",
    "        page_folder = pdf_folder + page + \"/\"\n",
    "\n",
    "        md_file_path = page_folder + \"text.md\"\n",
    "        with open(md_file_path, \"r\") as f:\n",
    "            page_md = f.read()\n",
    "\n",
    "        if page_md == \"\":\n",
    "            print(page_folder)"
   ]
  },
  {
   "cell_type": "code",
   "execution_count": 3,
   "id": "88d4b9c3-7ca3-46b5-b000-1fb4913c7e81",
   "metadata": {},
   "outputs": [],
   "source": [
    "from index import make_doc"
   ]
  },
  {
   "cell_type": "code",
   "execution_count": 4,
   "id": "9911633d-6cac-4699-a4c9-e32a2d1a6e5a",
   "metadata": {},
   "outputs": [
    {
     "data": {
      "text/plain": [
       "Document(id_='../data/processed_pdfs/Manual_for_Procurement_of_Works_Updated June, 2022_1/Manual_for_Procurement_of_Works_Updated June, 2022_1.pdf5/', embedding=None, metadata={'captions': '{\"fig0\": \"Signature of G.C. Murmu, Secretary (Expenditure), signifying their approval of the revised Manual on Procurement.\\\\n\", \"fig1\": \"Foreword by the Secretary (Expenditure) dated June 6, 2019, introducing revised manuals on public procurement, highlighting key changes such as the Central Public Procurement Portal (CPPP) and updated General Financial Rules (GFR 2017).\\\\n\"}', 'pdf_name': 'Manual_for_Procurement_of_Works_Updated June, 2022_1', 'page': 'Manual_for_Procurement_of_Works_Updated June, 2022_1.pdf5', 'keywords': ['Public Procurement', 'Government organizations', 'General Financial Rules (GFR)', 'Central Public Procurement Portal (CPPP)', 'transparency', 'Manual on Procurement of Works', 'domestic contractors', 'integrity pact', 'generic guidelines', 'Ministries/Departments'], 'QuestionsAnswered': 'Here are four questions and answers based on the provided text from the government procurement manual foreword:\\n\\n**Q1: What was the purpose of the three manuals prepared by the Department of Expenditure in 2006?**\\n\\n**A1:** To improve transparency in public procurement decision-making and reduce subjectivity, in conformity with the General Financial Rules (GFR) of 2005.  These manuals covered policies and procedures for procurement of goods, works, and hiring consultants.\\n\\n\\n**Q2: What significant changes in public procurement led to the revision of the manuals?**\\n\\n**A2:**  The introduction of the Central Public Procurement Portal (CPPP), a preference for domestic contractors, the inclusion of integrity pacts, and a comprehensive revision of the GFR in March 2017.\\n\\n\\n**Q3: What are the guiding principles behind the revised Manual on Procurement of Works?**\\n\\n**A3:** Transparency, fairness, competition, economy, efficiency, and accountability.\\n\\n\\n**Q4:  How are Ministries/Departments expected to use this manual?**\\n\\n**A4:** As generic guidelines. They are advised to supplement it with their own detailed manuals, customized formats, standard bidding documents, and schedules of procurement powers to suit their specific needs and provide detailed instructions for their procuring officers.\\n'}, excluded_embed_metadata_keys=[], excluded_llm_metadata_keys=[], relationships={}, text='# Foreword\\n\\n1. Government organizations procure a wide variety of goods and services and undertake execution of works in pursuance of their duties and responsibilities. With a view to improving transparency in decision making in public procurement and reducing the scope for subjectivity, Department of Expenditure in 2006 had prepared a set of three Manuals on Policies and Procedures for Procurement of Goods, Works and hiring of Consultants, in conformity with the General Financial Rules (GFR), 2005. Over the years, these Manuals have served as a guide book for procurement. \\n\\n2. In the last few years, the Government of India has issued new instructions in the domain of public procurement. Some of these important changes include introduction of Central Public Procurement Portal (CPPP), preference for domestic contractors, inclusion of integrity pact, etc. The GFR has been revised comprehensively in March 2017 covering *inter-alia* these set of new instructions. Consequently, the Manual of Procurement of Goods and Manual for Procurement of Consultancy & Other Services too have been revised.\\n\\n3. The new Manual on Procurement of Works has been extensively revised in keeping with GFR 2017 and in consonance with the fundamental principles of transparency, fairness, competition, economy, efficiency and accountability. Efforts have been made to cover all major aspects of procurement in this Manual in a user-friendly manner. The manual is the outcome of extensive consultations with Ministries/ Departments/ PSUs and other organizations over a period of more than one year. \\n\\n4. Manuals issued by this Department are to be taken as generic guidelines, which have to be necessarily broad in nature. Ministries/ Departments are advised to supplement this manual to suit their local/ specialized needs, by issuing their own detailed manuals (including customized formats); Standard Bidding Documents and Schedule of Procurement Powers to serve as detailed instructions for their own procuring officers. \\n\\n5. I would like to acknowledge the efforts taken by Shri Sanjay Prasad, Joint Secretary \\n(PF C-II), Shri Sanjay Aggarwal, Director (PPD), Shri Kotluru Narayana Reddy, Deputy Secretary (PPD) and Shri Girish Bhatnagar, Consultant (Public Procurement) in revision of this Manual. I would also like to thank the Ministries, Departments, other organisations and individuals who reviewed the drafts of the Manual and provided their valuable inputs.\\n\\n6. I hope that this Manual would be useful to procuring officials working in various Ministries/ \\nDepartments as operating instructions and will bring about greater transparency and predictability in government procedures and help in improving the ease of doing business with the Government.\\n\\n![0_image_0.png](0_image_0.png)\\n\\nDate : 06.06.2019 Secretary (Expenditure)', mimetype='text/plain', start_char_idx=None, end_char_idx=None, text_template='{metadata_str}\\n\\n{content}', metadata_template='{key}: {value}', metadata_seperator='\\n')"
      ]
     },
     "execution_count": 4,
     "metadata": {},
     "output_type": "execute_result"
    }
   ],
   "source": [
    "make_doc(\"../data/processed_pdfs/Manual_for_Procurement_of_Works_Updated June, 2022_1/Manual_for_Procurement_of_Works_Updated June, 2022_1.pdf5/\",\"Manual_for_Procurement_of_Works_Updated June, 2022_1.pdf5\") "
   ]
  },
  {
   "cell_type": "code",
   "execution_count": 5,
   "id": "dd05e263-8f45-4cbe-acec-47c8817848da",
   "metadata": {},
   "outputs": [],
   "source": [
    "import time"
   ]
  },
  {
   "cell_type": "code",
   "execution_count": 10,
   "id": "14b00c53-d72f-4b12-a061-61d9da32665f",
   "metadata": {},
   "outputs": [
    {
     "name": "stdout",
     "output_type": "stream",
     "text": [
      "5.000251293182373\n"
     ]
    }
   ],
   "source": [
    "start = time.time()\n",
    "time.sleep(5)\n",
    "end = time.time()\n",
    "print(end-start)"
   ]
  },
  {
   "cell_type": "code",
   "execution_count": null,
   "id": "0610a92d-cbd8-43d6-9731-8c2786903124",
   "metadata": {},
   "outputs": [],
   "source": []
  }
 ],
 "metadata": {
  "kernelspec": {
   "display_name": "Python 3 (ipykernel)",
   "language": "python",
   "name": "python3"
  },
  "language_info": {
   "codemirror_mode": {
    "name": "ipython",
    "version": 3
   },
   "file_extension": ".py",
   "mimetype": "text/x-python",
   "name": "python",
   "nbconvert_exporter": "python",
   "pygments_lexer": "ipython3",
   "version": "3.11.10"
  }
 },
 "nbformat": 4,
 "nbformat_minor": 5
}
